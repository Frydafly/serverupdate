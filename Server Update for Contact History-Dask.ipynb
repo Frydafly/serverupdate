{
 "cells": [
  {
   "cell_type": "markdown",
   "metadata": {},
   "source": [
    "### Importing the File\n",
    "1. import dask\n",
    "2. export from VAN as txt, and save to this directory\n",
    "3. read table \n",
    "\n"
   ]
  },
  {
   "cell_type": "code",
   "execution_count": 40,
   "metadata": {},
   "outputs": [],
   "source": [
    "### if first time installing dask:\n",
    "\n",
    "#!python -m pip install \"dask[complete]\" \n",
    "\n",
    "import dask.dataframe as dd"
   ]
  },
  {
   "cell_type": "code",
   "execution_count": 2,
   "metadata": {},
   "outputs": [],
   "source": [
    "#### if not Fryda, make sure to change the working directory to where you are saving everything in your computer\n",
    "### change the name to the folder where you save the files and also where you will launch jupyter notebook\n",
    "\n",
    "# os.chdir('../')\n"
   ]
  },
  {
   "cell_type": "code",
   "execution_count": 3,
   "metadata": {},
   "outputs": [],
   "source": [
    "###reading a txt file\n",
    "\n",
    "####add pathname to your file below\n",
    "\n",
    "CHfile = \"/Users/frydafly/Downloads/2020CH-14654181676.txt\""
   ]
  },
  {
   "cell_type": "code",
   "execution_count": 12,
   "metadata": {},
   "outputs": [],
   "source": [
    "#### load file into dataframe\n",
    "#### had to add engine = \"python\" to fix a unicode error\n",
    "\n",
    "df = dd.read_table(CHfile, engine = \"python\", encoding='cp1252')\n",
    "\n",
    "### for reading a csv file, see below\n",
    "# ch = pd.read_csv(\"\")"
   ]
  },
  {
   "cell_type": "code",
   "execution_count": 41,
   "metadata": {},
   "outputs": [
    {
     "data": {
      "text/html": [
       "<div>\n",
       "<style scoped>\n",
       "    .dataframe tbody tr th:only-of-type {\n",
       "        vertical-align: middle;\n",
       "    }\n",
       "\n",
       "    .dataframe tbody tr th {\n",
       "        vertical-align: top;\n",
       "    }\n",
       "\n",
       "    .dataframe thead th {\n",
       "        text-align: right;\n",
       "    }\n",
       "</style>\n",
       "<table border=\"1\" class=\"dataframe\">\n",
       "  <thead>\n",
       "    <tr style=\"text-align: right;\">\n",
       "      <th></th>\n",
       "      <th>Voter File VANID</th>\n",
       "      <th>DWID</th>\n",
       "      <th>VoterName</th>\n",
       "      <th>ResultShortName</th>\n",
       "      <th>CreatedBy</th>\n",
       "      <th>CanvassedBy</th>\n",
       "      <th>CommitteeName</th>\n",
       "      <th>DateCreated</th>\n",
       "      <th>DateCanvassed</th>\n",
       "      <th>ContactTypeName</th>\n",
       "      <th>Campaign</th>\n",
       "      <th>Content</th>\n",
       "      <th>InputTypeName</th>\n",
       "    </tr>\n",
       "  </thead>\n",
       "  <tbody>\n",
       "    <tr>\n",
       "      <th>0</th>\n",
       "      <td>24050775</td>\n",
       "      <td>984972613.0</td>\n",
       "      <td>Gomez, Luz D</td>\n",
       "      <td>Left Message</td>\n",
       "      <td>Hustle STV API</td>\n",
       "      <td>API, Hustle STV</td>\n",
       "      <td>HispanicFed</td>\n",
       "      <td>06/09/2020</td>\n",
       "      <td>06/09/2020</td>\n",
       "      <td>SMS Text</td>\n",
       "      <td>2020 Census</td>\n",
       "      <td>NaN</td>\n",
       "      <td>API</td>\n",
       "    </tr>\n",
       "    <tr>\n",
       "      <th>1</th>\n",
       "      <td>24050807</td>\n",
       "      <td>984972645.0</td>\n",
       "      <td>Piazzolla, Jamilla Rosa</td>\n",
       "      <td>Texted</td>\n",
       "      <td>Hustle STV API</td>\n",
       "      <td>API, Hustle STV</td>\n",
       "      <td>NYIC</td>\n",
       "      <td>09/21/2020</td>\n",
       "      <td>09/21/2020</td>\n",
       "      <td>SMS Text</td>\n",
       "      <td>2020 Census</td>\n",
       "      <td>NaN</td>\n",
       "      <td>API</td>\n",
       "    </tr>\n",
       "  </tbody>\n",
       "</table>\n",
       "</div>"
      ],
      "text/plain": [
       "   Voter File VANID         DWID                VoterName ResultShortName  \\\n",
       "0          24050775  984972613.0             Gomez, Luz D    Left Message   \n",
       "1          24050807  984972645.0  Piazzolla, Jamilla Rosa          Texted   \n",
       "\n",
       "        CreatedBy      CanvassedBy CommitteeName DateCreated DateCanvassed  \\\n",
       "0  Hustle STV API  API, Hustle STV   HispanicFed  06/09/2020    06/09/2020   \n",
       "1  Hustle STV API  API, Hustle STV          NYIC  09/21/2020    09/21/2020   \n",
       "\n",
       "  ContactTypeName     Campaign  Content InputTypeName   \n",
       "0        SMS Text  2020 Census      NaN            API  \n",
       "1        SMS Text  2020 Census      NaN            API  "
      ]
     },
     "execution_count": 41,
     "metadata": {},
     "output_type": "execute_result"
    }
   ],
   "source": [
    "#### take a look at all the columns\n",
    "df.head(2)"
   ]
  },
  {
   "cell_type": "code",
   "execution_count": 19,
   "metadata": {},
   "outputs": [
    {
     "name": "stdout",
     "output_type": "stream",
     "text": [
      "<class 'dask.dataframe.core.DataFrame'>\n",
      "Columns: 13 entries, Voter File VANID to InputTypeName \n",
      "dtypes: object(10), float64(2), int64(1)"
     ]
    }
   ],
   "source": [
    "## count number of rows\n",
    "\n",
    "df.info()"
   ]
  },
  {
   "cell_type": "markdown",
   "metadata": {},
   "source": [
    "## Clean Dataframe\n",
    "1. Drop extra columns\n",
    "2. Reorder Columns \n",
    "3. Convert DWID from float to integer\n",
    "4. uppercase Result, ContactType, InputType\n",
    "5. Remove NaN, and make blank\n",
    "6. Standardize committee names based on translation table?"
   ]
  },
  {
   "cell_type": "code",
   "execution_count": 20,
   "metadata": {},
   "outputs": [
    {
     "data": {
      "text/html": [
       "<div>\n",
       "<style scoped>\n",
       "    .dataframe tbody tr th:only-of-type {\n",
       "        vertical-align: middle;\n",
       "    }\n",
       "\n",
       "    .dataframe tbody tr th {\n",
       "        vertical-align: top;\n",
       "    }\n",
       "\n",
       "    .dataframe thead th {\n",
       "        text-align: right;\n",
       "    }\n",
       "</style>\n",
       "<table border=\"1\" class=\"dataframe\">\n",
       "  <thead>\n",
       "    <tr style=\"text-align: right;\">\n",
       "      <th></th>\n",
       "      <th>Voter File VANID</th>\n",
       "      <th>DWID</th>\n",
       "      <th>ResultShortName</th>\n",
       "      <th>CreatedBy</th>\n",
       "      <th>CanvassedBy</th>\n",
       "      <th>CommitteeName</th>\n",
       "      <th>DateCreated</th>\n",
       "      <th>DateCanvassed</th>\n",
       "      <th>ContactTypeName</th>\n",
       "      <th>Campaign</th>\n",
       "      <th>InputTypeName</th>\n",
       "    </tr>\n",
       "  </thead>\n",
       "  <tbody>\n",
       "    <tr>\n",
       "      <th>0</th>\n",
       "      <td>24050775</td>\n",
       "      <td>984972613.0</td>\n",
       "      <td>Left Message</td>\n",
       "      <td>Hustle STV API</td>\n",
       "      <td>API, Hustle STV</td>\n",
       "      <td>HispanicFed</td>\n",
       "      <td>06/09/2020</td>\n",
       "      <td>06/09/2020</td>\n",
       "      <td>SMS Text</td>\n",
       "      <td>2020 Census</td>\n",
       "      <td>API</td>\n",
       "    </tr>\n",
       "    <tr>\n",
       "      <th>1</th>\n",
       "      <td>24050807</td>\n",
       "      <td>984972645.0</td>\n",
       "      <td>Texted</td>\n",
       "      <td>Hustle STV API</td>\n",
       "      <td>API, Hustle STV</td>\n",
       "      <td>NYIC</td>\n",
       "      <td>09/21/2020</td>\n",
       "      <td>09/21/2020</td>\n",
       "      <td>SMS Text</td>\n",
       "      <td>2020 Census</td>\n",
       "      <td>API</td>\n",
       "    </tr>\n",
       "  </tbody>\n",
       "</table>\n",
       "</div>"
      ],
      "text/plain": [
       "   Voter File VANID         DWID ResultShortName       CreatedBy  \\\n",
       "0          24050775  984972613.0    Left Message  Hustle STV API   \n",
       "1          24050807  984972645.0          Texted  Hustle STV API   \n",
       "\n",
       "       CanvassedBy CommitteeName DateCreated DateCanvassed ContactTypeName  \\\n",
       "0  API, Hustle STV   HispanicFed  06/09/2020    06/09/2020        SMS Text   \n",
       "1  API, Hustle STV          NYIC  09/21/2020    09/21/2020        SMS Text   \n",
       "\n",
       "      Campaign InputTypeName   \n",
       "0  2020 Census            API  \n",
       "1  2020 Census            API  "
      ]
     },
     "execution_count": 20,
     "metadata": {},
     "output_type": "execute_result"
    }
   ],
   "source": [
    "# drop VoterName and Content Columns\n",
    "\n",
    "df1 = df.drop(columns=['VoterName', 'Content'])\n",
    "\n",
    "#look at the new columns\n",
    "df1.head(2)"
   ]
  },
  {
   "cell_type": "code",
   "execution_count": 42,
   "metadata": {},
   "outputs": [
    {
     "data": {
      "text/html": [
       "<div>\n",
       "<style scoped>\n",
       "    .dataframe tbody tr th:only-of-type {\n",
       "        vertical-align: middle;\n",
       "    }\n",
       "\n",
       "    .dataframe tbody tr th {\n",
       "        vertical-align: top;\n",
       "    }\n",
       "\n",
       "    .dataframe thead th {\n",
       "        text-align: right;\n",
       "    }\n",
       "</style>\n",
       "<table border=\"1\" class=\"dataframe\">\n",
       "  <thead>\n",
       "    <tr style=\"text-align: right;\">\n",
       "      <th></th>\n",
       "      <th>Voter File VANID</th>\n",
       "      <th>DWID</th>\n",
       "      <th>ResultShortName</th>\n",
       "      <th>DateCreated</th>\n",
       "      <th>DateCanvassed</th>\n",
       "      <th>ContactTypeName</th>\n",
       "      <th>InputTypeName</th>\n",
       "      <th>CommitteeName</th>\n",
       "      <th>CreatedBy</th>\n",
       "      <th>CanvassedBy</th>\n",
       "      <th>Campaign</th>\n",
       "    </tr>\n",
       "  </thead>\n",
       "  <tbody>\n",
       "    <tr>\n",
       "      <th>0</th>\n",
       "      <td>24050775</td>\n",
       "      <td>984972613.0</td>\n",
       "      <td>Left Message</td>\n",
       "      <td>06/09/2020</td>\n",
       "      <td>06/09/2020</td>\n",
       "      <td>SMS Text</td>\n",
       "      <td>API</td>\n",
       "      <td>HispanicFed</td>\n",
       "      <td>Hustle STV API</td>\n",
       "      <td>API, Hustle STV</td>\n",
       "      <td>2020 Census</td>\n",
       "    </tr>\n",
       "    <tr>\n",
       "      <th>1</th>\n",
       "      <td>24050807</td>\n",
       "      <td>984972645.0</td>\n",
       "      <td>Texted</td>\n",
       "      <td>09/21/2020</td>\n",
       "      <td>09/21/2020</td>\n",
       "      <td>SMS Text</td>\n",
       "      <td>API</td>\n",
       "      <td>NYIC</td>\n",
       "      <td>Hustle STV API</td>\n",
       "      <td>API, Hustle STV</td>\n",
       "      <td>2020 Census</td>\n",
       "    </tr>\n",
       "  </tbody>\n",
       "</table>\n",
       "</div>"
      ],
      "text/plain": [
       "   Voter File VANID         DWID ResultShortName DateCreated DateCanvassed  \\\n",
       "0          24050775  984972613.0    Left Message  06/09/2020    06/09/2020   \n",
       "1          24050807  984972645.0          Texted  09/21/2020    09/21/2020   \n",
       "\n",
       "  ContactTypeName InputTypeName  CommitteeName       CreatedBy  \\\n",
       "0        SMS Text            API   HispanicFed  Hustle STV API   \n",
       "1        SMS Text            API          NYIC  Hustle STV API   \n",
       "\n",
       "       CanvassedBy     Campaign  \n",
       "0  API, Hustle STV  2020 Census  \n",
       "1  API, Hustle STV  2020 Census  "
      ]
     },
     "execution_count": 42,
     "metadata": {},
     "output_type": "execute_result"
    }
   ],
   "source": [
    "#### reorder the columns -- not working right now because of dask!\n",
    "\n",
    "df2 = df1[['Voter File VANID', 'DWID', 'ResultShortName', 'DateCreated', 'DateCanvassed', 'ContactTypeName', 'InputTypeName ', 'CommitteeName', 'CreatedBy', 'CanvassedBy', 'Campaign']]\n",
    "\n",
    "\n",
    "#look at new columns\n",
    "df2.head(2)"
   ]
  },
  {
   "cell_type": "code",
   "execution_count": 43,
   "metadata": {},
   "outputs": [],
   "source": [
    "# Remove NaN\n",
    "\n",
    "df2 = df1.fillna('')"
   ]
  },
  {
   "cell_type": "code",
   "execution_count": 44,
   "metadata": {},
   "outputs": [
    {
     "data": {
      "text/html": [
       "<div>\n",
       "<style scoped>\n",
       "    .dataframe tbody tr th:only-of-type {\n",
       "        vertical-align: middle;\n",
       "    }\n",
       "\n",
       "    .dataframe tbody tr th {\n",
       "        vertical-align: top;\n",
       "    }\n",
       "\n",
       "    .dataframe thead th {\n",
       "        text-align: right;\n",
       "    }\n",
       "</style>\n",
       "<table border=\"1\" class=\"dataframe\">\n",
       "  <thead>\n",
       "    <tr style=\"text-align: right;\">\n",
       "      <th></th>\n",
       "      <th>Voter File VANID</th>\n",
       "      <th>DWID</th>\n",
       "      <th>ResultShortName</th>\n",
       "      <th>CreatedBy</th>\n",
       "      <th>CanvassedBy</th>\n",
       "      <th>CommitteeName</th>\n",
       "      <th>DateCreated</th>\n",
       "      <th>DateCanvassed</th>\n",
       "      <th>ContactTypeName</th>\n",
       "      <th>Campaign</th>\n",
       "      <th>InputTypeName</th>\n",
       "    </tr>\n",
       "  </thead>\n",
       "  <tbody>\n",
       "    <tr>\n",
       "      <th>0</th>\n",
       "      <td>24050775</td>\n",
       "      <td>9.84973e+08</td>\n",
       "      <td>LEFT MESSAGE</td>\n",
       "      <td>Hustle STV API</td>\n",
       "      <td>API, Hustle STV</td>\n",
       "      <td>HispanicFed</td>\n",
       "      <td>06/09/2020</td>\n",
       "      <td>06/09/2020</td>\n",
       "      <td>SMS TEXT</td>\n",
       "      <td>2020 Census</td>\n",
       "      <td>API</td>\n",
       "    </tr>\n",
       "    <tr>\n",
       "      <th>1</th>\n",
       "      <td>24050807</td>\n",
       "      <td>9.84973e+08</td>\n",
       "      <td>TEXTED</td>\n",
       "      <td>Hustle STV API</td>\n",
       "      <td>API, Hustle STV</td>\n",
       "      <td>NYIC</td>\n",
       "      <td>09/21/2020</td>\n",
       "      <td>09/21/2020</td>\n",
       "      <td>SMS TEXT</td>\n",
       "      <td>2020 Census</td>\n",
       "      <td>API</td>\n",
       "    </tr>\n",
       "  </tbody>\n",
       "</table>\n",
       "</div>"
      ],
      "text/plain": [
       "   Voter File VANID         DWID ResultShortName       CreatedBy  \\\n",
       "0          24050775  9.84973e+08    LEFT MESSAGE  Hustle STV API   \n",
       "1          24050807  9.84973e+08          TEXTED  Hustle STV API   \n",
       "\n",
       "       CanvassedBy CommitteeName DateCreated DateCanvassed ContactTypeName  \\\n",
       "0  API, Hustle STV   HispanicFed  06/09/2020    06/09/2020        SMS TEXT   \n",
       "1  API, Hustle STV          NYIC  09/21/2020    09/21/2020        SMS TEXT   \n",
       "\n",
       "      Campaign InputTypeName   \n",
       "0  2020 Census            API  \n",
       "1  2020 Census            API  "
      ]
     },
     "execution_count": 44,
     "metadata": {},
     "output_type": "execute_result"
    }
   ],
   "source": [
    "# uppercase for Result, ContactType, InputType\n",
    "\n",
    "df2['ResultShortName'] = df2['ResultShortName'].str.upper() \n",
    "df2['ContactTypeName'] = df2['ContactTypeName'].str.upper() \n",
    "df2['InputTypeName '] = df2['InputTypeName '].str.upper() \n",
    "\n",
    "#display results\n",
    "df2.head(2)"
   ]
  },
  {
   "cell_type": "code",
   "execution_count": 45,
   "metadata": {},
   "outputs": [
    {
     "data": {
      "text/plain": [
       "Voter File VANID      int64\n",
       "DWID                float64\n",
       "ResultShortName      object\n",
       "CreatedBy            object\n",
       "CanvassedBy          object\n",
       "CommitteeName        object\n",
       "DateCreated          object\n",
       "DateCanvassed        object\n",
       "ContactTypeName      object\n",
       "Campaign             object\n",
       "InputTypeName        object\n",
       "dtype: object"
      ]
     },
     "execution_count": 45,
     "metadata": {},
     "output_type": "execute_result"
    }
   ],
   "source": [
    "# check types to make sure it makes sense\n",
    "\n",
    "df2.dtypes"
   ]
  },
  {
   "cell_type": "code",
   "execution_count": 77,
   "metadata": {},
   "outputs": [],
   "source": [
    "df3['Voter File VANID'] = df2['Voter File VANID'].fillna(0)"
   ]
  },
  {
   "cell_type": "code",
   "execution_count": 46,
   "metadata": {},
   "outputs": [
    {
     "data": {
      "text/plain": [
       "Voter File VANID     int64\n",
       "DWID                 int64\n",
       "ResultShortName     object\n",
       "CreatedBy           object\n",
       "CanvassedBy         object\n",
       "CommitteeName       object\n",
       "DateCreated         object\n",
       "DateCanvassed       object\n",
       "ContactTypeName     object\n",
       "Campaign            object\n",
       "InputTypeName       object\n",
       "dtype: object"
      ]
     },
     "execution_count": 46,
     "metadata": {},
     "output_type": "execute_result"
    }
   ],
   "source": [
    "##convert DWID to int\n",
    "\n",
    "#fill na by 0, since that caused an issue the first time\n",
    "df2['DWID'] = df2['DWID'].fillna(0)\n",
    "\n",
    "#convert DWID to int\n",
    "df2['DWID'] = df2['DWID'].astype('int64') \n",
    "\n",
    "##convert inputtypename & campaign to object\n",
    "df2 = df2.astype({\"InputTypeName \":'object', \"Campaign\":'object'})  \n",
    "\n",
    "#display types again\n",
    "df2.dtypes"
   ]
  },
  {
   "cell_type": "markdown",
   "metadata": {},
   "source": [
    "## Clean Out Org Names -- not ready in Dask\n",
    "1. Remove orgs that are not NYCET Partner Orgs\n",
    "2. Rename org names to fit names in server"
   ]
  },
  {
   "cell_type": "code",
   "execution_count": 60,
   "metadata": {},
   "outputs": [],
   "source": [
    "# List distinct CommitteeNames\n",
    "\n",
    "#orgs = df2.drop_duplicates(subset=['CommitteeName']).compute()\n",
    "\n",
    "#print(orgs)"
   ]
  },
  {
   "cell_type": "code",
   "execution_count": 72,
   "metadata": {},
   "outputs": [],
   "source": [
    "## Remove orgs that are not NYCET partner org\n",
    "\n",
    "#list out index for rows that are not partners\n",
    "df3 = df2[(df.CommitteeName != 'Planned Parenthood c3')]\n",
    "\n",
    "#drop rows with these indexes\n",
    "#df2.drop(indexNames, axis=1)\n",
    "\n",
    "#check the distinct committeenames again\n",
    "#df2.CommitteeName.unique()"
   ]
  },
  {
   "cell_type": "code",
   "execution_count": 62,
   "metadata": {},
   "outputs": [],
   "source": [
    "# rename existing names to fit orgnames in server\n",
    "\n",
    "#df2['CommitteeName'] = df['CommitteeName'].replace(['Minkwon','Make the Road'],['MinKwon', 'MRNY'])\n",
    "\n",
    "#display new names\n",
    "#df2.CommitteeName.unique()"
   ]
  },
  {
   "cell_type": "markdown",
   "metadata": {},
   "source": [
    "## Narrow to Proper Date Range"
   ]
  },
  {
   "cell_type": "code",
   "execution_count": 37,
   "metadata": {},
   "outputs": [],
   "source": [
    "## this isn't ready yet, and we didn't need it yet, so I'll skip"
   ]
  },
  {
   "cell_type": "markdown",
   "metadata": {},
   "source": [
    "## Check our work"
   ]
  },
  {
   "cell_type": "code",
   "execution_count": 74,
   "metadata": {},
   "outputs": [
    {
     "data": {
      "text/plain": [
       "Dask Series Structure:\n",
       "npartitions=1\n",
       "Campaign            int64\n",
       "Voter File VANID      ...\n",
       "dtype: int64\n",
       "Dask Name: dataframe-count-agg, 376 tasks"
      ]
     },
     "execution_count": 74,
     "metadata": {},
     "output_type": "execute_result"
    }
   ],
   "source": [
    "# count number of rows\n",
    "\n",
    "df3.count()"
   ]
  },
  {
   "cell_type": "markdown",
   "metadata": {},
   "source": [
    "## Print New CSV"
   ]
  },
  {
   "cell_type": "code",
   "execution_count": null,
   "metadata": {},
   "outputs": [],
   "source": [
    "df3.to_csv(r'/Users/frydafly/Downloads/serverupdate/CH.csv', index = False, encoding='utf-8' )"
   ]
  },
  {
   "cell_type": "markdown",
   "metadata": {},
   "source": [
    "## If needed, split the file into manageable chunks"
   ]
  },
  {
   "cell_type": "code",
   "execution_count": null,
   "metadata": {},
   "outputs": [],
   "source": []
  }
 ],
 "metadata": {
  "kernelspec": {
   "display_name": "Python 3",
   "language": "python",
   "name": "python3"
  },
  "language_info": {
   "codemirror_mode": {
    "name": "ipython",
    "version": 3
   },
   "file_extension": ".py",
   "mimetype": "text/x-python",
   "name": "python",
   "nbconvert_exporter": "python",
   "pygments_lexer": "ipython3",
   "version": "3.7.6"
  }
 },
 "nbformat": 4,
 "nbformat_minor": 4
}
