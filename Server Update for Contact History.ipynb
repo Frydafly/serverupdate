{
 "cells": [
  {
   "cell_type": "markdown",
   "metadata": {},
   "source": [
    "### Importing the File\n",
    "1. import pandas\n",
    "2. export from VAN as txt, and save to this directory\n",
    "3. read table "
   ]
  },
  {
   "cell_type": "code",
   "execution_count": 3,
   "metadata": {},
   "outputs": [],
   "source": [
    "import pandas as pd"
   ]
  },
  {
   "cell_type": "code",
   "execution_count": 4,
   "metadata": {},
   "outputs": [],
   "source": [
    "#### if not Fryda, make sure to change the working directory to where you are saving everything in your computer\n",
    "### change the name to the folder where you save the files and also where you will launch jupyter notebook\n",
    "\n",
    "# os.chdir('../')\n"
   ]
  },
  {
   "cell_type": "code",
   "execution_count": 5,
   "metadata": {},
   "outputs": [],
   "source": [
    "###reading a txt file\n",
    "#### had to add engine = \"python\" to fix a unicode error\n",
    "\n",
    "df = pd.read_table(\"/Users/frydafly/Downloads/serverupdate/testCH-20609889456.txt\", engine = \"python\")\n",
    "\n",
    "### for reading a csv file, see below\n",
    "# ch = pd.read_csv(\"\")"
   ]
  },
  {
   "cell_type": "code",
   "execution_count": 13,
   "metadata": {},
   "outputs": [
    {
     "data": {
      "text/html": [
       "<div>\n",
       "<style scoped>\n",
       "    .dataframe tbody tr th:only-of-type {\n",
       "        vertical-align: middle;\n",
       "    }\n",
       "\n",
       "    .dataframe tbody tr th {\n",
       "        vertical-align: top;\n",
       "    }\n",
       "\n",
       "    .dataframe thead th {\n",
       "        text-align: right;\n",
       "    }\n",
       "</style>\n",
       "<table border=\"1\" class=\"dataframe\">\n",
       "  <thead>\n",
       "    <tr style=\"text-align: right;\">\n",
       "      <th></th>\n",
       "      <th>Voter File VANID</th>\n",
       "      <th>DWID</th>\n",
       "      <th>VoterName</th>\n",
       "      <th>ResultShortName</th>\n",
       "      <th>CreatedBy</th>\n",
       "      <th>CanvassedBy</th>\n",
       "      <th>CommitteeName</th>\n",
       "      <th>DateCreated</th>\n",
       "      <th>DateCanvassed</th>\n",
       "      <th>ContactTypeName</th>\n",
       "      <th>Campaign</th>\n",
       "      <th>Content</th>\n",
       "      <th>InputTypeName</th>\n",
       "    </tr>\n",
       "  </thead>\n",
       "  <tbody>\n",
       "    <tr>\n",
       "      <th>0</th>\n",
       "      <td>23763</td>\n",
       "      <td>25730899.0</td>\n",
       "      <td>Marquez, Sammy A</td>\n",
       "      <td>Canvassed</td>\n",
       "      <td>Hustle STV API</td>\n",
       "      <td>API, Hustle STV</td>\n",
       "      <td>Minkwon</td>\n",
       "      <td>12/02/2020</td>\n",
       "      <td>12/02/2020</td>\n",
       "      <td>SMS Text</td>\n",
       "      <td>NaN</td>\n",
       "      <td>NaN</td>\n",
       "      <td>API</td>\n",
       "    </tr>\n",
       "    <tr>\n",
       "      <th>1</th>\n",
       "      <td>27122</td>\n",
       "      <td>27804888.0</td>\n",
       "      <td>Dejesus, Monica Lynn</td>\n",
       "      <td>Canvassed</td>\n",
       "      <td>Hustle STV API</td>\n",
       "      <td>API, Hustle STV</td>\n",
       "      <td>Minkwon</td>\n",
       "      <td>12/02/2020</td>\n",
       "      <td>12/02/2020</td>\n",
       "      <td>SMS Text</td>\n",
       "      <td>NaN</td>\n",
       "      <td>NaN</td>\n",
       "      <td>API</td>\n",
       "    </tr>\n",
       "  </tbody>\n",
       "</table>\n",
       "</div>"
      ],
      "text/plain": [
       "   Voter File VANID        DWID             VoterName ResultShortName  \\\n",
       "0             23763  25730899.0      Marquez, Sammy A       Canvassed   \n",
       "1             27122  27804888.0  Dejesus, Monica Lynn       Canvassed   \n",
       "\n",
       "        CreatedBy      CanvassedBy CommitteeName DateCreated DateCanvassed  \\\n",
       "0  Hustle STV API  API, Hustle STV       Minkwon  12/02/2020    12/02/2020   \n",
       "1  Hustle STV API  API, Hustle STV       Minkwon  12/02/2020    12/02/2020   \n",
       "\n",
       "  ContactTypeName  Campaign  Content InputTypeName   \n",
       "0        SMS Text       NaN      NaN            API  \n",
       "1        SMS Text       NaN      NaN            API  "
      ]
     },
     "execution_count": 13,
     "metadata": {},
     "output_type": "execute_result"
    }
   ],
   "source": [
    "#### take a look at all the columns\n",
    "df.head(2)"
   ]
  },
  {
   "cell_type": "code",
   "execution_count": 29,
   "metadata": {},
   "outputs": [
    {
     "data": {
      "text/plain": [
       "Voter File VANID    45446\n",
       "DWID                44521\n",
       "VoterName           45446\n",
       "ResultShortName     45446\n",
       "CreatedBy           45446\n",
       "CanvassedBy         45440\n",
       "CommitteeName       45446\n",
       "DateCreated         45446\n",
       "DateCanvassed       45446\n",
       "ContactTypeName     45446\n",
       "Campaign                0\n",
       "Content                 0\n",
       "InputTypeName       45446\n",
       "dtype: int64"
      ]
     },
     "execution_count": 29,
     "metadata": {},
     "output_type": "execute_result"
    }
   ],
   "source": [
    "## count number of rows\n",
    "\n",
    "df.count()"
   ]
  },
  {
   "cell_type": "markdown",
   "metadata": {},
   "source": [
    "## Clean Dataframe\n",
    "1. Drop extra columns\n",
    "2. Reorder Columns \n",
    "3. Convert DWID from float to integer\n",
    "4. uppercase Result, ContactType, InputType\n",
    "5. Remove NaN, and make blank\n",
    "6. Standardize committee names based on translation table?"
   ]
  },
  {
   "cell_type": "code",
   "execution_count": 12,
   "metadata": {},
   "outputs": [
    {
     "data": {
      "text/html": [
       "<div>\n",
       "<style scoped>\n",
       "    .dataframe tbody tr th:only-of-type {\n",
       "        vertical-align: middle;\n",
       "    }\n",
       "\n",
       "    .dataframe tbody tr th {\n",
       "        vertical-align: top;\n",
       "    }\n",
       "\n",
       "    .dataframe thead th {\n",
       "        text-align: right;\n",
       "    }\n",
       "</style>\n",
       "<table border=\"1\" class=\"dataframe\">\n",
       "  <thead>\n",
       "    <tr style=\"text-align: right;\">\n",
       "      <th></th>\n",
       "      <th>Voter File VANID</th>\n",
       "      <th>DWID</th>\n",
       "      <th>ResultShortName</th>\n",
       "      <th>CreatedBy</th>\n",
       "      <th>CanvassedBy</th>\n",
       "      <th>CommitteeName</th>\n",
       "      <th>DateCreated</th>\n",
       "      <th>DateCanvassed</th>\n",
       "      <th>ContactTypeName</th>\n",
       "      <th>Campaign</th>\n",
       "      <th>InputTypeName</th>\n",
       "    </tr>\n",
       "  </thead>\n",
       "  <tbody>\n",
       "    <tr>\n",
       "      <th>0</th>\n",
       "      <td>23763</td>\n",
       "      <td>25730899.0</td>\n",
       "      <td>Canvassed</td>\n",
       "      <td>Hustle STV API</td>\n",
       "      <td>API, Hustle STV</td>\n",
       "      <td>Minkwon</td>\n",
       "      <td>12/02/2020</td>\n",
       "      <td>12/02/2020</td>\n",
       "      <td>SMS Text</td>\n",
       "      <td>NaN</td>\n",
       "      <td>API</td>\n",
       "    </tr>\n",
       "    <tr>\n",
       "      <th>1</th>\n",
       "      <td>27122</td>\n",
       "      <td>27804888.0</td>\n",
       "      <td>Canvassed</td>\n",
       "      <td>Hustle STV API</td>\n",
       "      <td>API, Hustle STV</td>\n",
       "      <td>Minkwon</td>\n",
       "      <td>12/02/2020</td>\n",
       "      <td>12/02/2020</td>\n",
       "      <td>SMS Text</td>\n",
       "      <td>NaN</td>\n",
       "      <td>API</td>\n",
       "    </tr>\n",
       "  </tbody>\n",
       "</table>\n",
       "</div>"
      ],
      "text/plain": [
       "   Voter File VANID        DWID ResultShortName       CreatedBy  \\\n",
       "0             23763  25730899.0       Canvassed  Hustle STV API   \n",
       "1             27122  27804888.0       Canvassed  Hustle STV API   \n",
       "\n",
       "       CanvassedBy CommitteeName DateCreated DateCanvassed ContactTypeName  \\\n",
       "0  API, Hustle STV       Minkwon  12/02/2020    12/02/2020        SMS Text   \n",
       "1  API, Hustle STV       Minkwon  12/02/2020    12/02/2020        SMS Text   \n",
       "\n",
       "   Campaign InputTypeName   \n",
       "0       NaN            API  \n",
       "1       NaN            API  "
      ]
     },
     "execution_count": 12,
     "metadata": {},
     "output_type": "execute_result"
    }
   ],
   "source": [
    "# drop VoterName and Content Columns\n",
    "\n",
    "df1 = df.drop(columns=['VoterName', 'Content'])\n",
    "\n",
    "#look at the new columns\n",
    "df1.head(2)"
   ]
  },
  {
   "cell_type": "code",
   "execution_count": 11,
   "metadata": {},
   "outputs": [
    {
     "data": {
      "text/html": [
       "<div>\n",
       "<style scoped>\n",
       "    .dataframe tbody tr th:only-of-type {\n",
       "        vertical-align: middle;\n",
       "    }\n",
       "\n",
       "    .dataframe tbody tr th {\n",
       "        vertical-align: top;\n",
       "    }\n",
       "\n",
       "    .dataframe thead th {\n",
       "        text-align: right;\n",
       "    }\n",
       "</style>\n",
       "<table border=\"1\" class=\"dataframe\">\n",
       "  <thead>\n",
       "    <tr style=\"text-align: right;\">\n",
       "      <th></th>\n",
       "      <th>Voter File VANID</th>\n",
       "      <th>DWID</th>\n",
       "      <th>ResultShortName</th>\n",
       "      <th>DateCreated</th>\n",
       "      <th>DateCanvassed</th>\n",
       "      <th>ContactTypeName</th>\n",
       "      <th>InputTypeName</th>\n",
       "      <th>CommitteeName</th>\n",
       "      <th>CreatedBy</th>\n",
       "      <th>CanvassedBy</th>\n",
       "      <th>Campaign</th>\n",
       "    </tr>\n",
       "  </thead>\n",
       "  <tbody>\n",
       "    <tr>\n",
       "      <th>0</th>\n",
       "      <td>23763</td>\n",
       "      <td>25730899.0</td>\n",
       "      <td>Canvassed</td>\n",
       "      <td>12/02/2020</td>\n",
       "      <td>12/02/2020</td>\n",
       "      <td>SMS Text</td>\n",
       "      <td>NaN</td>\n",
       "      <td>Minkwon</td>\n",
       "      <td>Hustle STV API</td>\n",
       "      <td>API, Hustle STV</td>\n",
       "      <td>NaN</td>\n",
       "    </tr>\n",
       "    <tr>\n",
       "      <th>1</th>\n",
       "      <td>27122</td>\n",
       "      <td>27804888.0</td>\n",
       "      <td>Canvassed</td>\n",
       "      <td>12/02/2020</td>\n",
       "      <td>12/02/2020</td>\n",
       "      <td>SMS Text</td>\n",
       "      <td>NaN</td>\n",
       "      <td>Minkwon</td>\n",
       "      <td>Hustle STV API</td>\n",
       "      <td>API, Hustle STV</td>\n",
       "      <td>NaN</td>\n",
       "    </tr>\n",
       "  </tbody>\n",
       "</table>\n",
       "</div>"
      ],
      "text/plain": [
       "   Voter File VANID        DWID ResultShortName DateCreated DateCanvassed  \\\n",
       "0             23763  25730899.0       Canvassed  12/02/2020    12/02/2020   \n",
       "1             27122  27804888.0       Canvassed  12/02/2020    12/02/2020   \n",
       "\n",
       "  ContactTypeName  InputTypeName CommitteeName       CreatedBy  \\\n",
       "0        SMS Text            NaN       Minkwon  Hustle STV API   \n",
       "1        SMS Text            NaN       Minkwon  Hustle STV API   \n",
       "\n",
       "       CanvassedBy  Campaign  \n",
       "0  API, Hustle STV       NaN  \n",
       "1  API, Hustle STV       NaN  "
      ]
     },
     "execution_count": 11,
     "metadata": {},
     "output_type": "execute_result"
    }
   ],
   "source": [
    "# reorder the columns\n",
    "\n",
    "columnsTitles = ['Voter File VANID', 'DWID', 'ResultShortName', 'DateCreated', 'DateCanvassed', 'ContactTypeName', 'InputTypeName', 'CommitteeName', 'CreatedBy', 'CanvassedBy', 'Campaign']\n",
    "df2 = df1.reindex(columns=columnsTitles)\n",
    "\n",
    "#look at new columns\n",
    "df2.head(2)"
   ]
  },
  {
   "cell_type": "code",
   "execution_count": 9,
   "metadata": {},
   "outputs": [],
   "source": [
    "# Remove NaN\n",
    "\n",
    "df2.fillna('', inplace=True)"
   ]
  },
  {
   "cell_type": "code",
   "execution_count": 31,
   "metadata": {},
   "outputs": [
    {
     "data": {
      "text/html": [
       "<div>\n",
       "<style scoped>\n",
       "    .dataframe tbody tr th:only-of-type {\n",
       "        vertical-align: middle;\n",
       "    }\n",
       "\n",
       "    .dataframe tbody tr th {\n",
       "        vertical-align: top;\n",
       "    }\n",
       "\n",
       "    .dataframe thead th {\n",
       "        text-align: right;\n",
       "    }\n",
       "</style>\n",
       "<table border=\"1\" class=\"dataframe\">\n",
       "  <thead>\n",
       "    <tr style=\"text-align: right;\">\n",
       "      <th></th>\n",
       "      <th>Voter File VANID</th>\n",
       "      <th>DWID</th>\n",
       "      <th>ResultShortName</th>\n",
       "      <th>DateCreated</th>\n",
       "      <th>DateCanvassed</th>\n",
       "      <th>ContactTypeName</th>\n",
       "      <th>InputTypeName</th>\n",
       "      <th>CommitteeName</th>\n",
       "      <th>CreatedBy</th>\n",
       "      <th>CanvassedBy</th>\n",
       "      <th>Campaign</th>\n",
       "    </tr>\n",
       "  </thead>\n",
       "  <tbody>\n",
       "    <tr>\n",
       "      <th>0</th>\n",
       "      <td>23763</td>\n",
       "      <td>25730899</td>\n",
       "      <td>CANVASSED</td>\n",
       "      <td>12/02/2020</td>\n",
       "      <td>12/02/2020</td>\n",
       "      <td>SMS TEXT</td>\n",
       "      <td>NaN</td>\n",
       "      <td>MinKwon</td>\n",
       "      <td>Hustle STV API</td>\n",
       "      <td>API, Hustle STV</td>\n",
       "      <td>NaN</td>\n",
       "    </tr>\n",
       "    <tr>\n",
       "      <th>1</th>\n",
       "      <td>27122</td>\n",
       "      <td>27804888</td>\n",
       "      <td>CANVASSED</td>\n",
       "      <td>12/02/2020</td>\n",
       "      <td>12/02/2020</td>\n",
       "      <td>SMS TEXT</td>\n",
       "      <td>NaN</td>\n",
       "      <td>MinKwon</td>\n",
       "      <td>Hustle STV API</td>\n",
       "      <td>API, Hustle STV</td>\n",
       "      <td>NaN</td>\n",
       "    </tr>\n",
       "  </tbody>\n",
       "</table>\n",
       "</div>"
      ],
      "text/plain": [
       "   Voter File VANID      DWID ResultShortName DateCreated DateCanvassed  \\\n",
       "0             23763  25730899       CANVASSED  12/02/2020    12/02/2020   \n",
       "1             27122  27804888       CANVASSED  12/02/2020    12/02/2020   \n",
       "\n",
       "  ContactTypeName InputTypeName CommitteeName       CreatedBy  \\\n",
       "0        SMS TEXT           NaN       MinKwon  Hustle STV API   \n",
       "1        SMS TEXT           NaN       MinKwon  Hustle STV API   \n",
       "\n",
       "       CanvassedBy Campaign  \n",
       "0  API, Hustle STV      NaN  \n",
       "1  API, Hustle STV      NaN  "
      ]
     },
     "execution_count": 31,
     "metadata": {},
     "output_type": "execute_result"
    }
   ],
   "source": [
    "# uppercase for Result, ContactType, InputType\n",
    "\n",
    "df2['ResultShortName'] = df2['ResultShortName'].str.upper() \n",
    "df2['ContactTypeName'] = df2['ContactTypeName'].str.upper() \n",
    "df2['InputTypeName'] = df2['InputTypeName'].str.upper() \n",
    "\n",
    "#display results\n",
    "df2.head(2)"
   ]
  },
  {
   "cell_type": "code",
   "execution_count": 32,
   "metadata": {},
   "outputs": [
    {
     "data": {
      "text/plain": [
       "Voter File VANID     int64\n",
       "DWID                 int64\n",
       "ResultShortName     object\n",
       "DateCreated         object\n",
       "DateCanvassed       object\n",
       "ContactTypeName     object\n",
       "InputTypeName       object\n",
       "CommitteeName       object\n",
       "CreatedBy           object\n",
       "CanvassedBy         object\n",
       "Campaign            object\n",
       "dtype: object"
      ]
     },
     "execution_count": 32,
     "metadata": {},
     "output_type": "execute_result"
    }
   ],
   "source": [
    "# check types to make sure it makes sense\n",
    "\n",
    "df2.dtypes"
   ]
  },
  {
   "cell_type": "code",
   "execution_count": 33,
   "metadata": {},
   "outputs": [
    {
     "data": {
      "text/plain": [
       "Voter File VANID     int64\n",
       "DWID                 int64\n",
       "ResultShortName     object\n",
       "DateCreated         object\n",
       "DateCanvassed       object\n",
       "ContactTypeName     object\n",
       "InputTypeName       object\n",
       "CommitteeName       object\n",
       "CreatedBy           object\n",
       "CanvassedBy         object\n",
       "Campaign            object\n",
       "dtype: object"
      ]
     },
     "execution_count": 33,
     "metadata": {},
     "output_type": "execute_result"
    }
   ],
   "source": [
    "##convert DWID to int\n",
    "\n",
    "#fill na by 0, since that caused an issue the first time\n",
    "df2['DWID'] = df2['DWID'].fillna(0)\n",
    "\n",
    "#convert DWID to int\n",
    "df2['DWID'] = df2['DWID'].astype('int64') \n",
    "\n",
    "##convert inputtypename & campaign to object\n",
    "df2 = df2.astype({\"InputTypeName\":'object', \"Campaign\":'object'})  \n",
    "\n",
    "#display types again\n",
    "df2.dtypes"
   ]
  },
  {
   "cell_type": "markdown",
   "metadata": {},
   "source": [
    "## Clean Out Org Names\n",
    "1. Remove orgs that are not NYCET Partner Orgs\n",
    "2. Rename org names to fit names in server"
   ]
  },
  {
   "cell_type": "code",
   "execution_count": 34,
   "metadata": {},
   "outputs": [
    {
     "data": {
      "text/plain": [
       "array(['MinKwon', 'WE ACT', 'MRNY', 'NWBCCC', 'GH', 'LICET'], dtype=object)"
      ]
     },
     "execution_count": 34,
     "metadata": {},
     "output_type": "execute_result"
    }
   ],
   "source": [
    "# List distinct CommitteeNames\n",
    "\n",
    "df2.CommitteeName.unique()"
   ]
  },
  {
   "cell_type": "code",
   "execution_count": 35,
   "metadata": {},
   "outputs": [
    {
     "data": {
      "text/plain": [
       "array(['MinKwon', 'WE ACT', 'MRNY', 'NWBCCC', 'GH', 'LICET'], dtype=object)"
      ]
     },
     "execution_count": 35,
     "metadata": {},
     "output_type": "execute_result"
    }
   ],
   "source": [
    "## Remove orgs that are not NYCET partner org\n",
    "\n",
    "#list out index for rows that are not partners\n",
    "indexNames = df2[df2['CommitteeName'] == 'Planned Parenthood c3'].index\n",
    "\n",
    "#drop rows with these indexes\n",
    "df2.drop(indexNames, inplace=True)\n",
    "\n",
    "#check the distinct committeenames again\n",
    "df2.CommitteeName.unique()"
   ]
  },
  {
   "cell_type": "code",
   "execution_count": 36,
   "metadata": {},
   "outputs": [
    {
     "data": {
      "text/plain": [
       "array(['MinKwon', 'WE ACT', 'MRNY', 'NWBCCC', 'GH', 'LICET'], dtype=object)"
      ]
     },
     "execution_count": 36,
     "metadata": {},
     "output_type": "execute_result"
    }
   ],
   "source": [
    "# rename existing names to fit orgnames in server\n",
    "\n",
    "df2['CommitteeName'] = df['CommitteeName'].replace(['Minkwon','Make the Road'],['MinKwon', 'MRNY'])\n",
    "\n",
    "#display new names\n",
    "df2.CommitteeName.unique()"
   ]
  },
  {
   "cell_type": "markdown",
   "metadata": {},
   "source": [
    "## Narrow to Proper Date Range"
   ]
  },
  {
   "cell_type": "code",
   "execution_count": 37,
   "metadata": {},
   "outputs": [],
   "source": [
    "## this isn't ready yet, and we didn't need it yet, so I'll skip"
   ]
  },
  {
   "cell_type": "markdown",
   "metadata": {},
   "source": [
    "## Check our work"
   ]
  },
  {
   "cell_type": "code",
   "execution_count": 38,
   "metadata": {},
   "outputs": [
    {
     "data": {
      "text/plain": [
       "Voter File VANID    45440\n",
       "DWID                45440\n",
       "ResultShortName     45440\n",
       "DateCreated         45440\n",
       "DateCanvassed       45440\n",
       "ContactTypeName     45440\n",
       "InputTypeName           0\n",
       "CommitteeName       45440\n",
       "CreatedBy           45440\n",
       "CanvassedBy         45440\n",
       "Campaign                0\n",
       "dtype: int64"
      ]
     },
     "execution_count": 38,
     "metadata": {},
     "output_type": "execute_result"
    }
   ],
   "source": [
    "# count number of rows\n",
    "\n",
    "df2.count()"
   ]
  },
  {
   "cell_type": "markdown",
   "metadata": {},
   "source": [
    "## Print New CSV"
   ]
  },
  {
   "cell_type": "code",
   "execution_count": 40,
   "metadata": {},
   "outputs": [],
   "source": [
    "df2.to_csv(r'/Users/frydafly/Downloads/serverupdate/newfile.csv', index = False)"
   ]
  },
  {
   "cell_type": "code",
   "execution_count": null,
   "metadata": {},
   "outputs": [],
   "source": []
  }
 ],
 "metadata": {
  "kernelspec": {
   "display_name": "Python 3",
   "language": "python",
   "name": "python3"
  },
  "language_info": {
   "codemirror_mode": {
    "name": "ipython",
    "version": 3
   },
   "file_extension": ".py",
   "mimetype": "text/x-python",
   "name": "python",
   "nbconvert_exporter": "python",
   "pygments_lexer": "ipython3",
   "version": "3.7.6"
  }
 },
 "nbformat": 4,
 "nbformat_minor": 4
}
